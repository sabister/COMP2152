{
  "cells": [
    {
      "cell_type": "markdown",
      "metadata": {
        "id": "32e3El5_-6FJ"
      },
      "source": [
        "# Lab exercise, week 3 - numpy & matplotlib basics\n",
        "\n",
        "Contents:\n",
        "- Overview of numpy arrays\n",
        "- Exercises for numpy\n",
        "- Exercises for plotting"
      ]
    },
    {
      "cell_type": "markdown",
      "metadata": {
        "id": "hnjPMW_p-6FJ"
      },
      "source": [
        "## NumPy - overview\n",
        "\n",
        "Python lists are somewhat weird creatures. In contrast to basic array types in other languages like C# and Java, they can hold objects of different types and new elements can be inserted in the middle. NumPy arrays are much more like C# arrays - all elements have the same type."
      ]
    },
    {
      "cell_type": "code",
      "execution_count": null,
      "metadata": {
        "id": "vZXTL3oC-6FK"
      },
      "outputs": [],
      "source": [
        "# by convention numpy is always imported as np\n",
        "import numpy as np"
      ]
    },
    {
      "cell_type": "markdown",
      "metadata": {
        "id": "9uyyw6_2-6FK"
      },
      "source": [
        "### Common ways of creating numpy arrays"
      ]
    },
    {
      "cell_type": "code",
      "execution_count": null,
      "metadata": {
        "id": "pyXLtvtS-6FK",
        "outputId": "b969c549-0fff-4c70-d101-5b44e39ac715"
      },
      "outputs": [
        {
          "data": {
            "text/plain": [
              "array([ 5,  2, 17])"
            ]
          },
          "execution_count": 2,
          "metadata": {},
          "output_type": "execute_result"
        }
      ],
      "source": [
        "a = np.array([5, 2, 17])  # Convert a Python list into a numpy array\n",
        "a"
      ]
    },
    {
      "cell_type": "code",
      "execution_count": null,
      "metadata": {
        "id": "bvL2F78S-6FK",
        "outputId": "b53a66fc-4ab3-4c18-8945-8bb93c2f5ca7"
      },
      "outputs": [
        {
          "data": {
            "text/plain": [
              "array([[5, 7, 2],\n",
              "       [9, 4, 1]])"
            ]
          },
          "execution_count": 3,
          "metadata": {},
          "output_type": "execute_result"
        }
      ],
      "source": [
        "# List of lists gets converted into a 2D array\n",
        "np.array([[5, 7, 2],\n",
        "          [9, 4, 1]])\n"
      ]
    },
    {
      "cell_type": "code",
      "execution_count": null,
      "metadata": {
        "id": "ysg0BuH_-6FK",
        "outputId": "61ed2c0a-c693-4bce-a815-d2ce0b5617c7"
      },
      "outputs": [
        {
          "data": {
            "text/plain": [
              "array([0, 1, 2, 3, 4])"
            ]
          },
          "execution_count": 6,
          "metadata": {},
          "output_type": "execute_result"
        }
      ],
      "source": [
        "np.arange(5)  # Same as Python's range() but creates a numpy array"
      ]
    },
    {
      "cell_type": "code",
      "execution_count": null,
      "metadata": {
        "id": "SVKbcxBi-6FK",
        "outputId": "06b668b9-9de2-4033-ac8c-b1ae547e231d"
      },
      "outputs": [
        {
          "data": {
            "text/plain": [
              "array([0., 0., 0., 0., 0.])"
            ]
          },
          "execution_count": 7,
          "metadata": {},
          "output_type": "execute_result"
        }
      ],
      "source": [
        "np.zeros(5)  # Create a numpy array with five elements, all set to zero"
      ]
    },
    {
      "cell_type": "code",
      "execution_count": null,
      "metadata": {
        "id": "xaGwSQ4h-6FL",
        "outputId": "63b5a687-8fab-4cd7-f069-f6a34d195179"
      },
      "outputs": [
        {
          "data": {
            "text/plain": [
              "array([1., 1., 1., 1., 1., 1., 1.])"
            ]
          },
          "execution_count": 8,
          "metadata": {},
          "output_type": "execute_result"
        }
      ],
      "source": [
        "c = np.ones(7)  # Create a numpy array with five elements, all set to 1\n",
        "c\n"
      ]
    },
    {
      "cell_type": "code",
      "execution_count": null,
      "metadata": {
        "id": "OWWZzOGF-6FL",
        "outputId": "2132bbdd-d4b9-465b-e4f1-80184869404f"
      },
      "outputs": [
        {
          "data": {
            "text/plain": [
              "array([0.14654318, 0.24300736, 0.74564537, 0.58652819, 0.39433085,\n",
              "       0.94389319])"
            ]
          },
          "execution_count": 9,
          "metadata": {},
          "output_type": "execute_result"
        }
      ],
      "source": [
        "# Array of 6 random numbers between 0 and 1\n",
        "np.random.rand(6)"
      ]
    },
    {
      "cell_type": "code",
      "execution_count": null,
      "metadata": {
        "id": "XMV9-8n9-6FL",
        "outputId": "305e8a87-fb3f-4595-faaf-68586e33a0ae"
      },
      "outputs": [
        {
          "data": {
            "text/plain": [
              "array([64, 97,  1, 69, 74, 72])"
            ]
          },
          "execution_count": 10,
          "metadata": {},
          "output_type": "execute_result"
        }
      ],
      "source": [
        "# array with 6 random integers between 0 and 100 (not including 100 as usual)\n",
        "np.random.randint(100, size=6)"
      ]
    },
    {
      "cell_type": "markdown",
      "metadata": {
        "id": "7MLMJPIM-6FL"
      },
      "source": [
        "### Array properties"
      ]
    },
    {
      "cell_type": "code",
      "execution_count": null,
      "metadata": {
        "id": "IfDDXf5w-6FL",
        "outputId": "4fa567db-ed4b-4a01-8f22-9f0f1eb89319"
      },
      "outputs": [
        {
          "data": {
            "text/plain": [
              "array([[5, 7, 2],\n",
              "       [9, 4, 1]])"
            ]
          },
          "execution_count": 11,
          "metadata": {},
          "output_type": "execute_result"
        }
      ],
      "source": [
        "b = np.array([[5, 7, 2],\n",
        "              [9, 4, 1]])\n",
        "b"
      ]
    },
    {
      "cell_type": "code",
      "execution_count": null,
      "metadata": {
        "id": "WV7WF0QG-6FL",
        "outputId": "c69efe97-9f68-4e46-e937-0096bc700447"
      },
      "outputs": [
        {
          "data": {
            "text/plain": [
              "dtype('int64')"
            ]
          },
          "execution_count": 12,
          "metadata": {},
          "output_type": "execute_result"
        }
      ],
      "source": [
        "# Data type of the array\n",
        "a.dtype"
      ]
    },
    {
      "cell_type": "code",
      "execution_count": null,
      "metadata": {
        "id": "pitOXn_t-6FL",
        "outputId": "76c6663c-fee9-4a9e-cacb-1397d85eaa6a"
      },
      "outputs": [
        {
          "data": {
            "text/plain": [
              "2"
            ]
          },
          "execution_count": 13,
          "metadata": {},
          "output_type": "execute_result"
        }
      ],
      "source": [
        "# number of dimensions\n",
        "b.ndim"
      ]
    },
    {
      "cell_type": "code",
      "execution_count": null,
      "metadata": {
        "id": "1rltm1lu-6FM",
        "outputId": "eb32cb07-872b-4e63-a24b-ebb2711c934a"
      },
      "outputs": [
        {
          "data": {
            "text/plain": [
              "(2, 3)"
            ]
          },
          "execution_count": 14,
          "metadata": {},
          "output_type": "execute_result"
        }
      ],
      "source": [
        "# array shape is a Python tuple, in this case it's (2, 3) because b is a 2 by 3 array.\n",
        "b.shape"
      ]
    },
    {
      "cell_type": "code",
      "execution_count": null,
      "metadata": {
        "id": "xWanoaEq-6FM",
        "outputId": "80371ef2-05bf-41e5-8b9a-19d08c105a72"
      },
      "outputs": [
        {
          "data": {
            "text/plain": [
              "6"
            ]
          },
          "execution_count": 15,
          "metadata": {},
          "output_type": "execute_result"
        }
      ],
      "source": [
        "# The total number of elements\n",
        "b.size"
      ]
    },
    {
      "cell_type": "code",
      "execution_count": null,
      "metadata": {
        "id": "9TpI5fTk-6FM",
        "outputId": "342de9dc-3eca-4505-855c-a7d2aaf2b801"
      },
      "outputs": [
        {
          "data": {
            "text/plain": [
              "dtype('float64')"
            ]
          },
          "execution_count": 16,
          "metadata": {},
          "output_type": "execute_result"
        }
      ],
      "source": [
        "# Note that zeros byt default uses the float64 data type\n",
        "z = np.zeros(7)\n",
        "z.dtype"
      ]
    },
    {
      "cell_type": "code",
      "execution_count": null,
      "metadata": {
        "id": "Ll37Gs3C-6FM",
        "outputId": "d56aacc5-091a-490f-dd89-e0e679db3731"
      },
      "outputs": [
        {
          "data": {
            "text/plain": [
              "dtype('int8')"
            ]
          },
          "execution_count": 17,
          "metadata": {},
          "output_type": "execute_result"
        }
      ],
      "source": [
        "# But data type can be set explicitly, almost all numpy functions that create arrays take an optional dtype parameter\n",
        "# Let's set it to an 8 bit integer\n",
        "z = np.zeros(7, dtype=np.int8)\n",
        "z.dtype"
      ]
    },
    {
      "cell_type": "markdown",
      "metadata": {
        "id": "Q5IcbjQo-6FM"
      },
      "source": [
        "## Exercises\n",
        "\n",
        "Read section 2.2 of the book (The Basics of NumPy Arrays) and complete the tasks below.\n"
      ]
    },
    {
      "cell_type": "markdown",
      "metadata": {
        "id": "XPy2kdua-6FM"
      },
      "source": [
        "### 1. Numpy Array Creation"
      ]
    },
    {
      "cell_type": "markdown",
      "metadata": {
        "id": "CSxHY1AR-6FM"
      },
      "source": [
        "##### Convert a list into a numpy array"
      ]
    },
    {
      "cell_type": "code",
      "execution_count": null,
      "metadata": {
        "id": "-akCCEUq-6FM",
        "outputId": "c60fe87a-48d6-450c-cd0c-e8f5f132976c"
      },
      "outputs": [
        {
          "data": {
            "text/plain": [
              "[5, 3, 8, 4]"
            ]
          },
          "execution_count": 113,
          "metadata": {},
          "output_type": "execute_result"
        }
      ],
      "source": [
        "lst = [5, 3, 8, 4]\n",
        "lst"
      ]
    },
    {
      "cell_type": "code",
      "execution_count": 2,
      "metadata": {
        "id": "POHwWSa9-6FM",
        "outputId": "fd2838f0-76bc-4bd4-87ed-cc20495fb1c9",
        "colab": {
          "base_uri": "https://localhost:8080/"
        }
      },
      "outputs": [
        {
          "output_type": "stream",
          "name": "stdout",
          "text": [
            "[5 3 8 4]\n"
          ]
        }
      ],
      "source": [
        "import numpy as np\n",
        "lst = [5, 3, 8, 4]\n",
        "x = np.array(lst)\n",
        "print(x)"
      ]
    },
    {
      "cell_type": "markdown",
      "metadata": {
        "id": "SW4f639D-6FM"
      },
      "source": [
        "#### What happens when you multiply a list by 3, what a about an array multiplied by 3?"
      ]
    },
    {
      "cell_type": "code",
      "execution_count": 4,
      "metadata": {
        "id": "OTUqkl3G-6FM",
        "outputId": "becc8341-91a2-4e7b-d60e-836f7d2b60e8",
        "colab": {
          "base_uri": "https://localhost:8080/"
        }
      },
      "outputs": [
        {
          "output_type": "stream",
          "name": "stdout",
          "text": [
            "[5, 3, 8, 4, 5, 3, 8, 4, 5, 3, 8, 4]\n",
            "[15  9 24 12]\n"
          ]
        }
      ],
      "source": [
        "\n",
        "print(lst * 3)\n",
        "print(x * 3)"
      ]
    },
    {
      "cell_type": "markdown",
      "metadata": {
        "id": "Oqbh2wg9-6FM"
      },
      "source": [
        "#### Create an array of 10 ones [1, 1, 1, ... ]"
      ]
    },
    {
      "cell_type": "code",
      "execution_count": 5,
      "metadata": {
        "id": "AuvutxpU-6FM",
        "outputId": "8721ba7c-2a82-410b-cade-967475b8606a",
        "colab": {
          "base_uri": "https://localhost:8080/"
        }
      },
      "outputs": [
        {
          "output_type": "stream",
          "name": "stdout",
          "text": [
            "[1 1 1 1 1 1 1 1 1 1]\n"
          ]
        }
      ],
      "source": [
        "ones = np.ones(10, dtype=int)\n",
        "print(ones)"
      ]
    },
    {
      "cell_type": "markdown",
      "metadata": {
        "id": "-qeVLsn0-6FM"
      },
      "source": [
        "#### Create an array of 10 fives [5, 5, 5, .... ]"
      ]
    },
    {
      "cell_type": "code",
      "execution_count": 6,
      "metadata": {
        "id": "PSG5ISYZ-6FN",
        "outputId": "64ff81c7-d37a-4b4c-8ebf-f0ee74c9744a",
        "colab": {
          "base_uri": "https://localhost:8080/"
        }
      },
      "outputs": [
        {
          "output_type": "stream",
          "name": "stdout",
          "text": [
            "[5 5 5 5 5 5 5 5 5 5]\n"
          ]
        }
      ],
      "source": [
        "fives = np.full(10, 5)\n",
        "print(fives)"
      ]
    },
    {
      "cell_type": "markdown",
      "metadata": {
        "id": "tgclVUfl-6FN"
      },
      "source": [
        "#### Create an array of the integers from 10 to 50 (including 50)"
      ]
    },
    {
      "cell_type": "code",
      "execution_count": 7,
      "metadata": {
        "id": "TgBmTJnF-6FN",
        "outputId": "5c2fe102-15d6-4c12-ae87-84020219e5a2",
        "colab": {
          "base_uri": "https://localhost:8080/"
        }
      },
      "outputs": [
        {
          "output_type": "stream",
          "name": "stdout",
          "text": [
            "[10 11 12 13 14 15 16 17 18 19 20 21 22 23 24 25 26 27 28 29 30 31 32 33\n",
            " 34 35 36 37 38 39 40 41 42 43 44 45 46 47 48 49 50]\n"
          ]
        }
      ],
      "source": [
        "arr_10_50 = np.arange(10, 51)\n",
        "print(arr_10_50)"
      ]
    },
    {
      "cell_type": "markdown",
      "metadata": {
        "id": "lu4jrj01-6FN"
      },
      "source": [
        "#### Create an array of 10 random numbers between 0 and 5"
      ]
    },
    {
      "cell_type": "code",
      "execution_count": 8,
      "metadata": {
        "id": "0zqJIkjA-6FN",
        "outputId": "0728e4d3-cc32-4e7b-fc6c-3498459f8bce",
        "colab": {
          "base_uri": "https://localhost:8080/"
        }
      },
      "outputs": [
        {
          "output_type": "stream",
          "name": "stdout",
          "text": [
            "[4.62748023 1.26277625 2.99440657 2.25433477 0.37016027 4.27557457\n",
            " 1.29618037 3.07355684 0.16906517 4.66083575]\n"
          ]
        }
      ],
      "source": [
        "rand_0_5 = np.random.rand(10) * 5\n",
        "print(rand_0_5)"
      ]
    },
    {
      "cell_type": "markdown",
      "metadata": {
        "id": "qSIpIgPF-6FN"
      },
      "source": [
        "#### Read the help for np.linspace function and create an array of 11 evenly spaced elements between 0 and 2\n",
        "use `np.linspace?` or `?np.linspace` to show the help"
      ]
    },
    {
      "cell_type": "code",
      "execution_count": 9,
      "metadata": {
        "id": "6cv2JgE6-6FN",
        "outputId": "c0ffee2a-e2b7-4bd5-9b14-4cc91d3113c6",
        "colab": {
          "base_uri": "https://localhost:8080/"
        }
      },
      "outputs": [
        {
          "output_type": "stream",
          "name": "stdout",
          "text": [
            "[0.  0.2 0.4 0.6 0.8 1.  1.2 1.4 1.6 1.8 2. ]\n"
          ]
        }
      ],
      "source": [
        "lin = np.linspace(0, 2, 11)   # 11 values from 0 to 2 inclusive\n",
        "print(lin)"
      ]
    },
    {
      "cell_type": "markdown",
      "metadata": {
        "id": "7W7XlSGX-6FN"
      },
      "source": [
        "#### Create a 3 by 4 array of ones"
      ]
    },
    {
      "cell_type": "code",
      "execution_count": 10,
      "metadata": {
        "id": "5o3b-8tA-6FN",
        "outputId": "d27a3f96-03e6-457b-b912-a892d806f711",
        "colab": {
          "base_uri": "https://localhost:8080/"
        }
      },
      "outputs": [
        {
          "output_type": "stream",
          "name": "stdout",
          "text": [
            "[[1 1 1 1]\n",
            " [1 1 1 1]\n",
            " [1 1 1 1]]\n"
          ]
        }
      ],
      "source": [
        "ones_3x4 = np.ones((3,4), dtype=int)\n",
        "print(ones_3x4)"
      ]
    },
    {
      "cell_type": "markdown",
      "metadata": {
        "id": "R05isrys-6FN"
      },
      "source": [
        "#### Create a 3 by 4 array of fives"
      ]
    },
    {
      "cell_type": "code",
      "execution_count": 11,
      "metadata": {
        "id": "eeF8r2o_-6FR",
        "outputId": "42670959-a4c4-4de4-e589-7b5f7f9e1163",
        "colab": {
          "base_uri": "https://localhost:8080/"
        }
      },
      "outputs": [
        {
          "output_type": "stream",
          "name": "stdout",
          "text": [
            "[[5 5 5 5]\n",
            " [5 5 5 5]\n",
            " [5 5 5 5]]\n"
          ]
        }
      ],
      "source": [
        "fives_3x4 = np.full((3,4), 5)\n",
        "print(fives_3x4)"
      ]
    },
    {
      "cell_type": "markdown",
      "metadata": {
        "id": "RvwRqpzX-6FR"
      },
      "source": [
        "### 2. Array Indexing\n",
        "Using the following arrays `a` and `m` for the questions below"
      ]
    },
    {
      "cell_type": "code",
      "execution_count": null,
      "metadata": {
        "id": "c1rzX87a-6FR",
        "outputId": "cbd0c1ec-a61e-4b88-e238-49f7e405f2af"
      },
      "outputs": [
        {
          "data": {
            "text/plain": [
              "array([10, 11, 12, 13, 14, 15, 16, 17, 18, 19, 20])"
            ]
          },
          "execution_count": 4,
          "metadata": {},
          "output_type": "execute_result"
        }
      ],
      "source": [
        "a = np.arange(10,21)\n",
        "a"
      ]
    },
    {
      "cell_type": "code",
      "execution_count": null,
      "metadata": {
        "id": "2pqz0swa-6FR",
        "outputId": "766b5fc7-47f1-4296-b318-a26fc255e302"
      },
      "outputs": [
        {
          "data": {
            "text/plain": [
              "array([[ 1,  2,  3,  4,  5,  6,  7],\n",
              "       [ 8,  9, 10, 11, 12, 13, 14],\n",
              "       [15, 16, 17, 18, 19, 20, 21]])"
            ]
          },
          "execution_count": 20,
          "metadata": {},
          "output_type": "execute_result"
        }
      ],
      "source": [
        "m = np.arange(1,22).reshape((3,7))\n",
        "m"
      ]
    },
    {
      "cell_type": "markdown",
      "metadata": {
        "id": "R-9EDpnU-6FR"
      },
      "source": [
        "### Create an array containing...\n",
        "#### the first 4 elements of a"
      ]
    },
    {
      "cell_type": "code",
      "execution_count": null,
      "metadata": {
        "id": "EIIVejA0-6FR",
        "outputId": "d6aa0b1d-8512-4442-c984-ad0cba769c1c"
      },
      "outputs": [
        {
          "data": {
            "text/plain": [
              "array([10, 11, 12, 13])"
            ]
          },
          "execution_count": 125,
          "metadata": {},
          "output_type": "execute_result"
        }
      ],
      "source": [
        "print(a[:4])"
      ]
    },
    {
      "cell_type": "markdown",
      "metadata": {
        "id": "jhFRtNf8-6FS"
      },
      "source": [
        "#### the last 3 elements of a"
      ]
    },
    {
      "cell_type": "code",
      "execution_count": null,
      "metadata": {
        "id": "JFKQyZN--6FS"
      },
      "outputs": [],
      "source": [
        "print(a[-3:])"
      ]
    },
    {
      "cell_type": "markdown",
      "metadata": {
        "id": "8VfTbOb7-6FS"
      },
      "source": [
        "#### The middle elements of a from 15 to 18 inclusive"
      ]
    },
    {
      "cell_type": "code",
      "execution_count": null,
      "metadata": {
        "id": "fc8FcpLE-6FS"
      },
      "outputs": [],
      "source": [
        "print(a[5:9])"
      ]
    },
    {
      "cell_type": "markdown",
      "metadata": {
        "id": "1P0zvhEl-6FS"
      },
      "source": [
        "#### The first column of m"
      ]
    },
    {
      "cell_type": "code",
      "execution_count": null,
      "metadata": {
        "id": "81Jk6qvw-6FS"
      },
      "outputs": [],
      "source": [
        "print(m[:,0])"
      ]
    },
    {
      "cell_type": "markdown",
      "metadata": {
        "id": "rQEp1PvR-6FS"
      },
      "source": [
        "#### The middle row of m"
      ]
    },
    {
      "cell_type": "code",
      "execution_count": null,
      "metadata": {
        "id": "BfiPCmYk-6FS"
      },
      "outputs": [],
      "source": [
        "print(m[1])"
      ]
    },
    {
      "cell_type": "markdown",
      "metadata": {
        "id": "8T8TnPsw-6FS"
      },
      "source": [
        "#### The left 3 columns of m"
      ]
    },
    {
      "cell_type": "code",
      "execution_count": null,
      "metadata": {
        "id": "4y-Q_OqS-6FS",
        "outputId": "91ca94c4-908d-4ff1-c653-a5dddf2c01be"
      },
      "outputs": [
        {
          "data": {
            "text/plain": [
              "array([[ 1,  2,  3],\n",
              "       [ 8,  9, 10],\n",
              "       [15, 16, 17]])"
            ]
          },
          "execution_count": 130,
          "metadata": {},
          "output_type": "execute_result"
        }
      ],
      "source": [
        "print(m[:, :3])"
      ]
    },
    {
      "cell_type": "markdown",
      "metadata": {
        "id": "sUpJhP7X-6FS"
      },
      "source": [
        "#### The bottom-right 2 by 2 square"
      ]
    },
    {
      "cell_type": "code",
      "execution_count": null,
      "metadata": {
        "id": "IBAK0hKY-6FS",
        "outputId": "2e1531e8-a465-4b65-a0e5-5d063b09800c"
      },
      "outputs": [
        {
          "data": {
            "text/plain": [
              "array([[13, 14],\n",
              "       [20, 21]])"
            ]
          },
          "execution_count": 131,
          "metadata": {},
          "output_type": "execute_result"
        }
      ],
      "source": [
        "print(m[1:, -2:])"
      ]
    },
    {
      "cell_type": "markdown",
      "metadata": {
        "id": "NdQu-DNO-6FS"
      },
      "source": [
        "#### Print every other element of a\n",
        "Hint: use slicing with a step (`array[start:stop:step]`)"
      ]
    },
    {
      "cell_type": "code",
      "execution_count": null,
      "metadata": {
        "id": "UYCXvtiz-6FS",
        "outputId": "33dfc06d-a9c6-498e-ddcb-7d195dfb28d9"
      },
      "outputs": [
        {
          "data": {
            "text/plain": [
              "array([10, 12, 14, 16, 18, 20])"
            ]
          },
          "execution_count": 132,
          "metadata": {},
          "output_type": "execute_result"
        }
      ],
      "source": [
        "print(a[::2])"
      ]
    },
    {
      "cell_type": "markdown",
      "metadata": {
        "id": "yPPWICCY-6FT"
      },
      "source": [
        "#### Print the `even` elements of a\n",
        "Hint: use boolean indexing"
      ]
    },
    {
      "cell_type": "code",
      "execution_count": null,
      "metadata": {
        "id": "RMCfQHt7-6FT"
      },
      "outputs": [],
      "source": [
        "print(a[a % 2 == 0])"
      ]
    },
    {
      "cell_type": "markdown",
      "metadata": {
        "id": "r_5xJVq7-6FT"
      },
      "source": [
        "### 3. Array Math"
      ]
    },
    {
      "cell_type": "markdown",
      "metadata": {
        "id": "jF08yD3g-6FT"
      },
      "source": [
        "#### Subtract 5 from each element of a"
      ]
    },
    {
      "cell_type": "code",
      "execution_count": null,
      "metadata": {
        "id": "jhpH1nbW-6FT",
        "outputId": "955d16af-8efa-435f-a7ab-00d7254869e0"
      },
      "outputs": [
        {
          "data": {
            "text/plain": [
              "array([ 5,  6,  7,  8,  9, 10, 11, 12, 13, 14, 15])"
            ]
          },
          "execution_count": 134,
          "metadata": {},
          "output_type": "execute_result"
        }
      ],
      "source": [
        "print(a - 5)"
      ]
    },
    {
      "cell_type": "markdown",
      "metadata": {
        "id": "7tMpSpO2-6FT"
      },
      "source": [
        "#### Calculate the `sum` of all the elements in a"
      ]
    },
    {
      "cell_type": "code",
      "execution_count": null,
      "metadata": {
        "id": "xqSkJiQ4-6FT"
      },
      "outputs": [],
      "source": [
        "print(a.sum())"
      ]
    },
    {
      "cell_type": "markdown",
      "metadata": {
        "id": "6S53SsRF-6FT"
      },
      "source": [
        "#### Calculate the sum of each column and each row in `m`\n",
        "Hint: use the `axis` argument of the `sum` method"
      ]
    },
    {
      "cell_type": "code",
      "execution_count": null,
      "metadata": {
        "id": "TXu1ooIs-6FT"
      },
      "outputs": [],
      "source": [
        "print(m.sum(axis=0))\n",
        "print(m.sum(axis=1))"
      ]
    },
    {
      "cell_type": "markdown",
      "metadata": {
        "id": "JlBl8Kkv-6FT"
      },
      "source": [
        "#### Create an array containing squares of all numbers from 1 to 10 (inclusive)"
      ]
    },
    {
      "cell_type": "code",
      "execution_count": null,
      "metadata": {
        "id": "snnBV9NP-6FT"
      },
      "outputs": [],
      "source": [
        "squares = np.arange(1,11)**2\n",
        "print(squares)"
      ]
    },
    {
      "cell_type": "markdown",
      "metadata": {
        "id": "inSo-mBW-6FT"
      },
      "source": [
        "#### Create an array containing all powers of 2 from $2^0$ to $2^{10}$ (inclusive)"
      ]
    },
    {
      "cell_type": "code",
      "execution_count": null,
      "metadata": {
        "id": "76iLV_aQ-6FT"
      },
      "outputs": [],
      "source": [
        "powers_of_two = 2 ** np.arange(0, 11)\n",
        "print(powers_of_two)"
      ]
    },
    {
      "cell_type": "markdown",
      "metadata": {
        "id": "WAu3L7a7-6FT"
      },
      "source": [
        "#### Same as above (powers of two), but subtract one from each element, that is $a_k = 2^k - 1$"
      ]
    },
    {
      "cell_type": "code",
      "execution_count": null,
      "metadata": {
        "id": "LRsXNHMO-6FT"
      },
      "outputs": [],
      "source": [
        "powers_minus1 = powers_of_two - 1\n",
        "print(powers_minus1)"
      ]
    },
    {
      "cell_type": "markdown",
      "metadata": {
        "id": "Xnf4Z4Y6-6FT"
      },
      "source": [
        "### 4. Plotting Basics\n",
        " - Use [this tutorial](https://matplotlib.org/users/pyplot_tutorial.html) as reference when (if) you get stuck\n",
        " - Execute the cells with imports, otherwise you won't have numpy and matplotlib imported and Python will complain"
      ]
    },
    {
      "cell_type": "code",
      "execution_count": null,
      "metadata": {
        "id": "qOlu7Drd-6FT"
      },
      "outputs": [],
      "source": [
        "import numpy as np\n",
        "import matplotlib.pyplot as plt"
      ]
    },
    {
      "cell_type": "code",
      "execution_count": null,
      "metadata": {
        "id": "XtIELE99-6FT"
      },
      "outputs": [],
      "source": [
        "# Load weather data (take a look at that CSV file on GitHub or via Excel and note column names)\n",
        "weather = np.loadtxt(\"OshawaWeather2016.csv\", skiprows=1, delimiter=',')"
      ]
    },
    {
      "cell_type": "code",
      "execution_count": null,
      "metadata": {
        "id": "-FPjpWzC-6FU",
        "outputId": "dbf88f4b-4210-4793-c3b1-3da98a747066"
      },
      "outputs": [
        {
          "data": {
            "text/plain": [
              "(349, 5)"
            ]
          },
          "execution_count": 6,
          "metadata": {},
          "output_type": "execute_result"
        }
      ],
      "source": [
        "weather.shape"
      ]
    },
    {
      "cell_type": "code",
      "execution_count": null,
      "metadata": {
        "id": "tetnKQwt-6FU",
        "outputId": "0d1004ce-d601-41b4-c4f3-36250f3ce47e"
      },
      "outputs": [
        {
          "data": {
            "text/plain": [
              "dtype('float64')"
            ]
          },
          "execution_count": 7,
          "metadata": {},
          "output_type": "execute_result"
        }
      ],
      "source": [
        "weather.dtype"
      ]
    },
    {
      "cell_type": "markdown",
      "metadata": {
        "id": "AEN78E0s-6FU"
      },
      "source": [
        "#### Crate separate 1D arrays for each column (e.g: day, maxt, mint and so on)"
      ]
    },
    {
      "cell_type": "code",
      "execution_count": null,
      "metadata": {
        "id": "MHTXwaOD-6FU"
      },
      "outputs": [],
      "source": [
        "day = weather[:,0]\n",
        "maxt = weather[:,1]\n",
        "mint = weather[:,2]\n",
        "meant = weather[:,3]\n",
        "precip = weather[:,4]"
      ]
    },
    {
      "cell_type": "markdown",
      "metadata": {
        "id": "3JgiV7gT-6FU"
      },
      "source": [
        "#### Plot the minimum temperature as a function of day number"
      ]
    },
    {
      "cell_type": "code",
      "execution_count": null,
      "metadata": {
        "id": "OlvdJLWG-6FU"
      },
      "outputs": [],
      "source": []
    },
    {
      "cell_type": "markdown",
      "metadata": {
        "id": "O-CJWDO8-6FU"
      },
      "source": [
        "#### Plot the max temperature in degrees Fahrenheit"
      ]
    },
    {
      "cell_type": "code",
      "execution_count": null,
      "metadata": {
        "id": "6sq5ymsR-6FU"
      },
      "outputs": [],
      "source": []
    },
    {
      "cell_type": "markdown",
      "metadata": {
        "id": "c4x2E4PL-6FU"
      },
      "source": [
        "#### Plot the difference between the maximum and the minimum day temperature as a function of day number"
      ]
    },
    {
      "cell_type": "code",
      "execution_count": null,
      "metadata": {
        "id": "LF5CS_kd-6FU"
      },
      "outputs": [],
      "source": []
    },
    {
      "cell_type": "markdown",
      "metadata": {
        "id": "52WqwfQY-6FU"
      },
      "source": [
        "#### Plot both, the minimum and maximum temperature on the same figure"
      ]
    },
    {
      "cell_type": "code",
      "execution_count": null,
      "metadata": {
        "id": "KtoD_4fk-6FU"
      },
      "outputs": [],
      "source": [
        "plt.plot(day, mint, label=\"Min Temp (°C)\")\n",
        "plt.plot(day, maxt, label=\"Max Temp (°C)\")\n",
        "plt.xlabel(\"Day\")\n",
        "plt.ylabel(\"Temperature (°C)\")\n",
        "plt.title(\"Daily Min and Max Temps\")\n",
        "plt.legend()\n",
        "plt.show()"
      ]
    },
    {
      "cell_type": "markdown",
      "metadata": {
        "id": "mMPpw1P4-6FU"
      },
      "source": [
        "#### Add axis labels and a legend to the plot above\n",
        "Use the following functions:\n",
        " - plt.xlabel\n",
        " - plt.ylabel\n",
        " - plt.title\n",
        " - plt.legend"
      ]
    },
    {
      "cell_type": "markdown",
      "metadata": {
        "id": "kmUo60hT-6FU"
      },
      "source": [
        "#### Read about plt.hist() function and plot a histogram of the maximum temperatures"
      ]
    },
    {
      "cell_type": "code",
      "execution_count": null,
      "metadata": {
        "id": "e0-kFNje-6FU"
      },
      "outputs": [],
      "source": [
        "plt.hist(maxt, bins=20, color=\"orange\")\n",
        "plt.xlabel(\"Max Temp (°C)\")\n",
        "plt.ylabel(\"Frequency\")\n",
        "plt.title(\"Distribution of Max Temperatures\")\n",
        "plt.show()"
      ]
    },
    {
      "cell_type": "markdown",
      "metadata": {
        "id": "eR8V04-_-6FU"
      },
      "source": [
        "#### Plot a histogram of the differences between the min and max temperature"
      ]
    },
    {
      "cell_type": "code",
      "execution_count": null,
      "metadata": {
        "id": "HqptFHGW-6FU"
      },
      "outputs": [],
      "source": [
        "plt.hist(maxt - mint, bins=20, color=\"green\")\n",
        "plt.xlabel(\"Temperature Range (°C)\")\n",
        "plt.ylabel(\"Frequency\")\n",
        "plt.title(\"Distribution of Daily Temp Ranges\")\n",
        "plt.show()"
      ]
    },
    {
      "cell_type": "markdown",
      "metadata": {
        "id": "swH-MgV5-6FU"
      },
      "source": [
        "#### For each day calculate the average of the 3 temperatures in the data (min max and avg)\n"
      ]
    },
    {
      "cell_type": "code",
      "execution_count": null,
      "metadata": {
        "id": "z02gRDrN-6FU"
      },
      "outputs": [],
      "source": [
        "daily_avg = (maxt + mint + meant) / 3\n",
        "print(\"First 5 daily averages:\", daily_avg[:5])"
      ]
    },
    {
      "cell_type": "markdown",
      "metadata": {
        "id": "s0Wi5Rrj-6FV"
      },
      "source": [
        "#### Calculate the total amount of precipitation for the whole year\n",
        "Does the number seem reasonable? The annual average precipitation in Toronto is 831 mm according to https://en.wikipedia.org/wiki/Geography_of_Toronto"
      ]
    },
    {
      "cell_type": "code",
      "execution_count": null,
      "metadata": {
        "id": "tfdLVmjl-6FV"
      },
      "outputs": [],
      "source": [
        "total_precip = precip.sum()\n",
        "print(\"Total Precipitation (mm):\", total_precip)"
      ]
    },
    {
      "cell_type": "markdown",
      "metadata": {
        "id": "ScFSZ1bk-6FV"
      },
      "source": [
        "#### Calculate the total precipitation on all odd numbered days (day 1, 3, 5 and so on)"
      ]
    },
    {
      "cell_type": "code",
      "execution_count": null,
      "metadata": {
        "id": "ZIQ83r1z-6FV"
      },
      "outputs": [],
      "source": [
        "odd_precip = precip[day % 2 == 1].sum()\n",
        "print(\"Total Precip on Odd Days (mm):\", odd_precip)"
      ]
    }
  ],
  "metadata": {
    "kernelspec": {
      "display_name": ".comp3122",
      "language": "python",
      "name": "python3"
    },
    "language_info": {
      "codemirror_mode": {
        "name": "ipython",
        "version": 3
      },
      "file_extension": ".py",
      "mimetype": "text/x-python",
      "name": "python",
      "nbconvert_exporter": "python",
      "pygments_lexer": "ipython3",
      "version": "3.12.9"
    },
    "colab": {
      "provenance": []
    }
  },
  "nbformat": 4,
  "nbformat_minor": 0
}