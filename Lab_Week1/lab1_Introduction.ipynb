{
  "cells": [
    {
      "cell_type": "markdown",
      "metadata": {
        "id": "ZDh711s8-hcR"
      },
      "source": [
        "# Introduction: Jupyter Notebooks \\& Python"
      ]
    },
    {
      "cell_type": "markdown",
      "metadata": {
        "id": "BUGs8lxS-hcS"
      },
      "source": [
        "## 1. Hello, World!\n",
        "To run the code, click anywhere into the cell (the box with the code inside), and then type `Shift` + `Enter` (`Shift` + `Return` on a Mac) to execute."
      ]
    },
    {
      "cell_type": "code",
      "execution_count": 1,
      "metadata": {
        "colab": {
          "base_uri": "https://localhost:8080/"
        },
        "id": "zzSon8E2-hcT",
        "outputId": "0638909a-7cc9-463d-b5e9-8226347ce0e3"
      },
      "outputs": [
        {
          "output_type": "stream",
          "name": "stdout",
          "text": [
            "Hello, World!\n"
          ]
        }
      ],
      "source": [
        "print(\"Hello, World!\")"
      ]
    },
    {
      "cell_type": "markdown",
      "metadata": {
        "id": "QVCyAspV-hcT"
      },
      "source": [
        "this is my note for the Thursday class"
      ]
    },
    {
      "cell_type": "markdown",
      "metadata": {
        "id": "ejLonEBH-hcT"
      },
      "source": [
        "## 2. Very useful shortcuts"
      ]
    },
    {
      "cell_type": "markdown",
      "metadata": {
        "id": "axTeIhfB-hcT"
      },
      "source": [
        "There are two types of cells in Jupyter Notebooks: code and markdown. This is a markdown cell. You can write notes in markdown cells using the markdown language.\n",
        "\n",
        "\n",
        "- `Esc` will take you into command mode where you can navigate around your notebook with arrow keys.\n",
        "- While in command mode:\n",
        "    - `A` to insert a new cell above the current cell, `B` to insert a new cell below.\n",
        "    - `M` to change the current cell to Markdown, `Y` to change it back to code\n",
        "    - `D` + `D` (press the key twice) to delete the current cell\n",
        "- `Enter` will take you from command mode back into edit mode for the given cell."
      ]
    },
    {
      "cell_type": "markdown",
      "metadata": {
        "id": "_Ub5-UAg-hcU"
      },
      "source": [
        "## 3. Running some simple codes with `print` statements"
      ]
    },
    {
      "cell_type": "markdown",
      "metadata": {
        "id": "N9p89e6f-hcU"
      },
      "source": [
        "To print the result of the computation within that string rather than just the formula, you can use what is called an `f-string` in Python which looks like this:"
      ]
    },
    {
      "cell_type": "code",
      "execution_count": null,
      "metadata": {
        "id": "6mcOQU4d-hcU"
      },
      "outputs": [],
      "source": [
        "print(f\"The temperature 75F in degrees celsius is {(75 - 32) * 5 / 9}C\")"
      ]
    },
    {
      "cell_type": "code",
      "execution_count": null,
      "metadata": {
        "id": "NC4CPPiV-hcU"
      },
      "outputs": [],
      "source": [
        "print(f\"Isabel is {28/7} dog years old.\")"
      ]
    },
    {
      "cell_type": "markdown",
      "metadata": {
        "id": "SGbD51i--hcU"
      },
      "source": [
        "What if you wanted to display a whole number, which is much more natural when speaking about ages?"
      ]
    },
    {
      "cell_type": "code",
      "execution_count": null,
      "metadata": {
        "id": "73X6qWxY-hcU"
      },
      "outputs": [],
      "source": [
        "print(f\"Isabel is {28/7:.0f} dog years old.\")"
      ]
    },
    {
      "cell_type": "markdown",
      "metadata": {
        "id": "NlOvLpAo-hcU"
      },
      "source": [
        "The following `multi-line` `f-string` includes a description of how Americans use measurements in units that are not in the metric system. It displays the equivalent milliliters (ml) for 8 fluid ounces of milk and the equivalent fluid ounces to 100 ml of water."
      ]
    },
    {
      "cell_type": "code",
      "execution_count": null,
      "metadata": {
        "id": "RwM02Hsf-hcU"
      },
      "outputs": [],
      "source": [
        "print(f\"\"\"\n",
        "    Most countries use the metric system for recipe measurement,\n",
        "    but American bakers use a different system. For example, they use\n",
        "    fluid ounces to measure liquids instead of milliliters (ml).\n",
        "\n",
        "    So you need to convert recipe units to your local measuring system!\n",
        "\n",
        "    For example, 8 fluid ounces of milk is {8 * 29.5735} ml.\n",
        "    And 100ml of water is {100 / 29.5735} fluid ounces.\n",
        "\"\"\")"
      ]
    },
    {
      "cell_type": "markdown",
      "metadata": {
        "id": "LOQl8-uN-hcV"
      },
      "source": [
        "You can use variables within `f-strings` to make your output more readable."
      ]
    },
    {
      "cell_type": "code",
      "execution_count": null,
      "metadata": {
        "id": "-GILD4Vn-hcV"
      },
      "outputs": [],
      "source": [
        "name = \"Otto\"\n",
        "gnome_height = 12.7\n",
        "dog_age = 7"
      ]
    },
    {
      "cell_type": "code",
      "execution_count": null,
      "metadata": {
        "id": "3Aj1ijUs-hcV"
      },
      "outputs": [],
      "source": [
        "#TODO: print the variables above with suitable labels"
      ]
    },
    {
      "cell_type": "code",
      "execution_count": null,
      "metadata": {
        "id": "2da5wQiJ-hcV",
        "outputId": "c5a2f625-94ad-4621-b981-2f6d165b3d7e"
      },
      "outputs": [
        {
          "name": "stdout",
          "output_type": "stream",
          "text": [
            "Name: Otto\n",
            "Gnome height: 12.7\n"
          ]
        }
      ],
      "source": [
        "print(f\"\"\"\n",
        "        name: {name}\n",
        "        height: {gnome_height}\n",
        "        dog's age: {dog_age}\n",
        "      \"\"\")"
      ]
    },
    {
      "cell_type": "markdown",
      "metadata": {
        "id": "t_ubbNtJ-hcV"
      },
      "source": [
        "## 3. Plot Data"
      ]
    },
    {
      "cell_type": "markdown",
      "metadata": {
        "id": "fx0yFa3D-hcV"
      },
      "source": [
        "**TODO:** Install matplotlib package in your python environment"
      ]
    },
    {
      "cell_type": "code",
      "execution_count": null,
      "metadata": {
        "id": "3BoUWWqc-hcV"
      },
      "outputs": [],
      "source": [
        "from matplotlib import pyplot as plt"
      ]
    },
    {
      "cell_type": "code",
      "execution_count": null,
      "metadata": {
        "id": "aipq7JUn-hcV"
      },
      "outputs": [],
      "source": [
        "X = [1, 2, 3, 4, 5]\n",
        "Y = [1, 4, 9, 16, 25]"
      ]
    },
    {
      "cell_type": "code",
      "execution_count": 6,
      "metadata": {
        "colab": {
          "base_uri": "https://localhost:8080/",
          "height": 447
        },
        "id": "WOEfwqCi-hcV",
        "outputId": "7f4714ee-a970-4a54-8808-439680995003"
      },
      "outputs": [
        {
          "output_type": "execute_result",
          "data": {
            "text/plain": [
              "[<matplotlib.lines.Line2D at 0x7adefb3ac680>]"
            ]
          },
          "metadata": {},
          "execution_count": 6
        },
        {
          "output_type": "display_data",
          "data": {
            "text/plain": [
              "<Figure size 640x480 with 1 Axes>"
            ],
            "image/png": "[encoded data removed]"
          },
          "metadata": {}
        }
      ],
      "source": [
        "# TODO: Plot Y vs. X\n",
        "from matplotlib import pyplot as plt\n",
        "X = [1, 2, 3, 4, 5]\n",
        "Y = [1, 4, 9, 16, 25]\n",
        "plt.plot(X, Y, 'o')"
      ]
    },
    {
      "cell_type": "code",
      "execution_count": 7,
      "metadata": {
        "colab": {
          "base_uri": "https://localhost:8080/",
          "height": 447
        },
        "id": "qBcpBMpQ-hcV",
        "outputId": "e75da692-2d9d-40a9-b09b-d8014fae4e42"
      },
      "outputs": [
        {
          "output_type": "execute_result",
          "data": {
            "text/plain": [
              "[<matplotlib.lines.Line2D at 0x7adefb3c2f90>]"
            ]
          },
          "metadata": {},
          "execution_count": 7
        },
        {
          "output_type": "display_data",
          "data": {
            "text/plain": [
              "<Figure size 640x480 with 1 Axes>"
            ],
            "image/png": "[encoded data removed]"
          },
          "metadata": {}
        }
      ],
      "source": [
        "from matplotlib import pyplot as plt\n",
        "X = [1, 2, 3, 4, 5]\n",
        "Y = [1, 4, 9, 16, 25]\n",
        "plt.plot(X, Y, 'o')\n"
      ]
    },
    {
      "cell_type": "markdown",
      "metadata": {
        "id": "JOE1A9ka-hcV"
      },
      "source": [
        "## 4. Magic Commands"
      ]
    },
    {
      "cell_type": "code",
      "execution_count": null,
      "metadata": {
        "id": "yrEYdrph-hcW"
      },
      "outputs": [],
      "source": [
        "%run ./hello.py"
      ]
    },
    {
      "cell_type": "code",
      "execution_count": null,
      "metadata": {
        "id": "xtpUHAV0-hcW"
      },
      "outputs": [],
      "source": [
        "dog_age?"
      ]
    },
    {
      "cell_type": "markdown",
      "metadata": {
        "id": "aLS4HgJO-hcW"
      },
      "source": [
        "## 5. Python basic data and data structures"
      ]
    },
    {
      "cell_type": "markdown",
      "metadata": {
        "id": "5K2E1HSZ-hcW"
      },
      "source": [
        "### 5.1. Basic data types\n",
        "\n",
        "\n",
        "**Numbers:** Integers and floats work as you would expect from other languages:\n"
      ]
    },
    {
      "cell_type": "code",
      "execution_count": null,
      "metadata": {
        "id": "OYcP5yt_-hcW"
      },
      "outputs": [],
      "source": [
        "x = 3\n",
        "print(type(x)) # Prints \"<class 'int'>\"\n",
        "print(x)       # Prints \"3\"\n",
        "print(x + 1)   # Addition; prints \"4\"\n",
        "print(x - 1)   # Subtraction; prints \"2\"\n",
        "print(x * 2)   # Multiplication; prints \"6\"\n",
        "print(x ** 2)  # Exponentiation; prints \"9\"\n",
        "x += 1\n",
        "print(x)  # Prints \"4\"\n",
        "x *= 2\n",
        "print(x)  # Prints \"8\"\n",
        "y = 2.5\n",
        "print(type(y)) # Prints \"<class 'float'>\""
      ]
    },
    {
      "cell_type": "markdown",
      "metadata": {
        "id": "kARIBO1V-hcW"
      },
      "source": [
        "Note that unlike many languages, Python does not have unary increment (`x++`) or decrement (`x--`) operators.\n",
        "\n",
        "**Booleans:** Python implements all of the usual operators for Boolean logic, but uses English words rather than symbols (`&&`, `||`, etc.):"
      ]
    },
    {
      "cell_type": "code",
      "execution_count": null,
      "metadata": {
        "id": "FxS5V9do-hcW"
      },
      "outputs": [],
      "source": [
        "t = True\n",
        "f = False\n",
        "print(type(t)) # Prints \"<class 'bool'>\"\n",
        "print(t and f) # Logical AND; prints \"False\"\n",
        "print(t or f)  # Logical OR; prints \"True\"\n",
        "print(not t)   # Logical NOT; prints \"False\"\n",
        "print(t != f)  # Logical XOR; prints \"True\""
      ]
    },
    {
      "cell_type": "markdown",
      "metadata": {
        "id": "TgsTZiT2-hcW"
      },
      "source": [
        "**Strings:** Python has great support for strings:"
      ]
    },
    {
      "cell_type": "code",
      "execution_count": null,
      "metadata": {
        "id": "47dyYafW-hcW"
      },
      "outputs": [],
      "source": [
        "hello = 'hello'    # String literals can use single quotes\n",
        "world = \"hello world\"    # or double quotes; it does not matter.\n",
        "print(hello)       # Prints \"hello\"\n",
        "print(len(hello))  # String length; prints \"5\"\n",
        "hw = hello + ' ' + world  # String concatenation\n",
        "print(hw)  # prints \"hello world\""
      ]
    },
    {
      "cell_type": "markdown",
      "metadata": {
        "id": "i4cFE257-hcW"
      },
      "source": [
        "String objects have a bunch of useful methods; for example:"
      ]
    },
    {
      "cell_type": "code",
      "execution_count": null,
      "metadata": {
        "id": "o87eRK4N-hcW"
      },
      "outputs": [],
      "source": [
        "s = \"hello\"\n",
        "print(s.capitalize())  # Capitalize a string; prints \"Hello\"\n",
        "print(s.upper())       # Convert a string to uppercase; prints \"HELLO\"\n",
        "print(s.replace('l', '(ell)'))  # Replace all instances of one substring with another;\n",
        "print('  world '.strip())  # Strip leading and trailing whitespace; prints \"world\""
      ]
    },
    {
      "cell_type": "markdown",
      "metadata": {
        "id": "62x6RAVE-hcX"
      },
      "source": [
        "### 5.2. Lists"
      ]
    },
    {
      "cell_type": "markdown",
      "metadata": {
        "id": "URhJ1WWR-hcX"
      },
      "source": [
        "A list is the Python equivalent of an array, but is resizeable and can contain elements of different types:"
      ]
    },
    {
      "cell_type": "code",
      "execution_count": null,
      "metadata": {
        "id": "yB2VAqI5-hcX",
        "outputId": "d5e45cbc-9e31-4be0-ba80-afb752c71565"
      },
      "outputs": [
        {
          "name": "stdout",
          "output_type": "stream",
          "text": [
            "[3, 1, 2] 2\n",
            "2\n",
            "[3, 1, 'foo']\n",
            "[3, 1, 'foo', 'bar']\n",
            "bar [3, 1, 'foo']\n"
          ]
        }
      ],
      "source": [
        "xs = [3, 1, 2]    # Create a list\n",
        "print(xs, xs[2])  # Prints \"[3, 1, 2] 2\"\n",
        "print(xs[-1])     # Negative indices count from the end of the list; prints \"2\"\n",
        "xs[2] = 'foo'     # Lists can contain elements of different types\n",
        "print(xs)         # Prints \"[3, 1, 'foo']\"\n",
        "xs.append('bar')  # Add a new element to the end of the list\n",
        "print(xs)         # Prints \"[3, 1, 'foo', 'bar']\"\n",
        "x = xs.pop()      # Remove and return the last element of the list\n",
        "print(x, xs)      # Prints \"bar [3, 1, 'foo']\""
      ]
    },
    {
      "cell_type": "markdown",
      "metadata": {
        "id": "X5U-8xK0-hcd"
      },
      "source": [
        "**Slicing:** In addition to accessing list elements one at a time, Python provides concise syntax to access sublists; this is known as slicing:"
      ]
    },
    {
      "cell_type": "code",
      "execution_count": 3,
      "metadata": {
        "colab": {
          "base_uri": "https://localhost:8080/"
        },
        "id": "bTRKPMxV-hcd",
        "outputId": "97d9e20d-92a4-4edd-ac13-c1b6f36e4130"
      },
      "outputs": [
        {
          "output_type": "stream",
          "name": "stdout",
          "text": [
            "[0, 1, 2, 3, 4]\n",
            "[2, 3]\n",
            "[2, 3, 4]\n",
            "[0, 1]\n"
          ]
        }
      ],
      "source": [
        "nums = list(range(5))     # range is a built-in function that creates a list of integers\n",
        "print(nums)               # Prints \"[0, 1, 2, 3, 4]\"\n",
        "# TODO: Get a slice from index 2 to 4 (exclusive); prints \"[2, 3]\"\n",
        "print(nums[2:4])\n",
        "# TODO: Get a slice from index 2 to the end; prints \"[2, 3, 4]\"\n",
        "print(nums[2:5])\n",
        "\n",
        "# TODO: Get a slice from the start to index 2 (exclusive); prints \"[0, 1]\"\n",
        "print(nums[0:2])"
      ]
    },
    {
      "cell_type": "markdown",
      "metadata": {
        "id": "P-57_M08-hcd"
      },
      "source": [
        "**Loops:** You can loop over the elements of a list like this:"
      ]
    },
    {
      "cell_type": "code",
      "execution_count": null,
      "metadata": {
        "id": "eNuOql9B-hce"
      },
      "outputs": [],
      "source": [
        "animals = ['cat', 'dog', 'monkey']"
      ]
    },
    {
      "cell_type": "code",
      "execution_count": 8,
      "metadata": {
        "colab": {
          "base_uri": "https://localhost:8080/"
        },
        "id": "1r-BWf-O-hce",
        "outputId": "61f65958-2ed3-4325-ff57-7dcff7fc2f27"
      },
      "outputs": [
        {
          "output_type": "stream",
          "name": "stdout",
          "text": [
            "1 : cat\n",
            "2 : dog\n",
            "3 : monkey\n"
          ]
        }
      ],
      "source": [
        "#TODO: Loop over animals and print each one\n",
        "animals = ['cat', 'dog', 'monkey']\n",
        "i=0\n",
        "for a in animals:\n",
        "  i= i+1\n",
        "  print( i,\":\",a)"
      ]
    },
    {
      "cell_type": "markdown",
      "metadata": {
        "id": "xuyvNX2G-hce"
      },
      "source": [
        "If you want access to the index of each element within the body of a loop, use the built-in `enumerate` function:\n"
      ]
    },
    {
      "cell_type": "code",
      "execution_count": 21,
      "metadata": {
        "colab": {
          "base_uri": "https://localhost:8080/"
        },
        "id": "7azAQstg-hce",
        "outputId": "0b287447-267f-4298-a24a-746ecff0c573"
      },
      "outputs": [
        {
          "output_type": "stream",
          "name": "stdout",
          "text": [
            "1 : cat\n",
            "2 : dog\n",
            "3 : monkey\n"
          ]
        }
      ],
      "source": [
        "animals = ['cat', 'dog', 'monkey']\n",
        "i=0\n",
        "for a in animals:\n",
        "  i= i+1\n",
        "  print( i,\":\",a)"
      ]
    },
    {
      "cell_type": "code",
      "execution_count": 13,
      "metadata": {
        "id": "ehHQ7GRt-hce"
      },
      "outputs": [],
      "source": []
    },
    {
      "cell_type": "markdown",
      "metadata": {
        "id": "c0t8rqpN-hce"
      },
      "source": [
        "**List mapping and comprehensions:** When programming, frequently we want to transform one type of data into another. As a simple example, consider the following code that computes square numbers:"
      ]
    },
    {
      "cell_type": "code",
      "execution_count": 33,
      "metadata": {
        "id": "RTwGAmoT-hce"
      },
      "outputs": [],
      "source": [
        "nums = [0, 1, 2, 3, 4]\n",
        "squares = []\n",
        "\n",
        "#TODO: Use for loop and append to create a list of squares [0, 1, 4, 9, 16]\n",
        "i=0\n",
        "for j in nums:\n",
        "  squares.append(nums[i]* nums[i])\n",
        "  i = i+1"
      ]
    },
    {
      "cell_type": "markdown",
      "metadata": {
        "id": "q77BdP7w-hce"
      },
      "source": [
        "You can make this code simpler using a **list comprehension**:"
      ]
    },
    {
      "cell_type": "code",
      "execution_count": 30,
      "metadata": {
        "colab": {
          "base_uri": "https://localhost:8080/"
        },
        "id": "xtsMmd_w-hce",
        "outputId": "0e9f7a77-2423-4a17-953e-396fe86c4e40"
      },
      "outputs": [
        {
          "output_type": "stream",
          "name": "stdout",
          "text": [
            "[0, 1, 4, 9, 16]\n"
          ]
        }
      ],
      "source": [
        "nums = [0, 1, 2, 3, 4]\n",
        "squares = [x ** 2 for x in nums]\n",
        "print(squares)   # Prints [0, 1, 4, 9, 16]"
      ]
    },
    {
      "cell_type": "markdown",
      "metadata": {
        "id": "lqFq0xhE-hce"
      },
      "source": [
        "List comprehensions can also contain conditions:"
      ]
    },
    {
      "cell_type": "code",
      "execution_count": null,
      "metadata": {
        "id": "7CqEgtTI-hce",
        "outputId": "3d9b5fee-12cf-4afc-bddd-c6edab27ca93"
      },
      "outputs": [
        {
          "name": "stdout",
          "output_type": "stream",
          "text": [
            "[0, 4, 16]\n"
          ]
        }
      ],
      "source": [
        "nums = [0, 1, 2, 3, 4]\n",
        "even_squares = [x ** 2 for x in nums if x % 2 == 0]\n",
        "print(even_squares)  # Prints \"[0, 4, 16]\""
      ]
    },
    {
      "cell_type": "markdown",
      "metadata": {
        "id": "k9wT21Xw-hce"
      },
      "source": [
        "### 5.3. Dictionaries"
      ]
    },
    {
      "cell_type": "markdown",
      "metadata": {
        "id": "lzWGdROI-hcf"
      },
      "source": [
        "A dictionary stores (key, value) pairs, similar to a Map in Java or an object in Javascript. You can use it like this:"
      ]
    },
    {
      "cell_type": "code",
      "execution_count": null,
      "metadata": {
        "id": "1e40tQlh-hcf",
        "outputId": "d874275c-e35a-4f6d-d083-be6c86989273"
      },
      "outputs": [
        {
          "name": "stdout",
          "output_type": "stream",
          "text": [
            "cute\n",
            "True\n",
            "wet\n",
            "N/A\n",
            "wet\n",
            "N/A\n"
          ]
        }
      ],
      "source": [
        "d = {'cat': 'cute', 'dog': 'furry'}  # Create a new dictionary with some data\n",
        "print(d['cat'])       # Get an entry from a dictionary; prints \"cute\"\n",
        "print('cat' in d)     # Check if a dictionary has a given key; prints \"True\"\n",
        "d['fish'] = 'wet'     # Set an entry in a dictionary\n",
        "print(d['fish'])      # Prints \"wet\"\n",
        "# print(d['monkey'])  # KeyError: 'monkey' not a key of d\n",
        "print(d.get('monkey', 'N/A'))  # Get an element with a default; prints \"N/A\"\n",
        "print(d.get('fish', 'N/A'))    # Get an element with a default; prints \"wet\"\n",
        "del d['fish']         # Remove an element from a dictionary\n",
        "print(d.get('fish', 'N/A')) # \"fish\" is no longer a key; prints \"N/A\""
      ]
    },
    {
      "cell_type": "markdown",
      "metadata": {
        "id": "uWzij9h2-hcf"
      },
      "source": [
        "**Loops**: It is easy to iterate over the keys in a dictionary:\n"
      ]
    },
    {
      "cell_type": "code",
      "execution_count": null,
      "metadata": {
        "id": "cVMRM4GH-hcf"
      },
      "outputs": [],
      "source": [
        "dict = {'person': 2, 'cat': 4, 'spider': 8}\n",
        "# TODO: loop over the dictionary and print the number of legs for each animal\n",
        "# Prints \"A person has 2 legs\", \"A cat has 4 legs\", \"A spider has 8 legs\""
      ]
    },
    {
      "cell_type": "code",
      "execution_count": 3,
      "metadata": {
        "colab": {
          "base_uri": "https://localhost:8080/"
        },
        "id": "-Qr63klo-hcf",
        "outputId": "89e17717-608d-41bd-82f8-0c99b321df57"
      },
      "outputs": [
        {
          "output_type": "stream",
          "name": "stdout",
          "text": [
            "A person has 2 legs.\n",
            "A cat has 4 legs.\n",
            "A spider has 8 legs.\n"
          ]
        }
      ],
      "source": [
        "dict = {'person': 2, 'cat': 4, 'spider': 8}\n",
        "\n",
        "for animal, legs in dict.items():\n",
        "    print(f\"A {animal} has {legs} legs.\")"
      ]
    },
    {
      "cell_type": "markdown",
      "metadata": {
        "id": "U0ndZtwo-hcf"
      },
      "source": [
        "**Dictionary comprehensions:** These are similar to list comprehensions, but allow you to easily construct dictionaries. For example:"
      ]
    },
    {
      "cell_type": "code",
      "execution_count": null,
      "metadata": {
        "id": "Cs_D3poZ-hcf",
        "outputId": "a4116f25-2156-463b-d9ea-f941dc35c49b"
      },
      "outputs": [
        {
          "name": "stdout",
          "output_type": "stream",
          "text": [
            "{0: 0, 2: 4, 4: 16}\n"
          ]
        }
      ],
      "source": [
        "nums = [0, 1, 2, 3, 4]\n",
        "even_num_to_square = {x: x ** 2 for x in nums if x % 2 == 0}\n",
        "print(even_num_to_square)  # Prints \"{0: 0, 2: 4, 4: 16}\""
      ]
    },
    {
      "cell_type": "markdown",
      "metadata": {
        "id": "d1rNP-Yv-hcg"
      },
      "source": [
        "### 5.4.Sets"
      ]
    },
    {
      "cell_type": "markdown",
      "metadata": {
        "id": "zud-_Mdx-hcg"
      },
      "source": [
        "A set is an unordered collection of distinct elements. As a simple example, consider the following:\n"
      ]
    },
    {
      "cell_type": "code",
      "execution_count": null,
      "metadata": {
        "id": "HeQwB87g-hcg",
        "outputId": "a91ab5f7-3a73-4dbd-a167-d90ffdac3e75"
      },
      "outputs": [
        {
          "name": "stdout",
          "output_type": "stream",
          "text": [
            "True\n",
            "False\n",
            "True\n",
            "3\n",
            "3\n",
            "2\n"
          ]
        }
      ],
      "source": [
        "animals = {'cat', 'dog'}\n",
        "print('cat' in animals)   # Check if an element is in a set; prints \"True\"\n",
        "print('fish' in animals)  # prints \"False\"\n",
        "animals.add('fish')       # Add an element to a set\n",
        "print('fish' in animals)  # Prints \"True\"\n",
        "print(len(animals))       # Number of elements in a set; prints \"3\"\n",
        "animals.add('cat')        # Adding an element that is already in the set does nothing\n",
        "print(len(animals))       # Prints \"3\"\n",
        "animals.remove('cat')     # Remove an element from a set\n",
        "print(len(animals))       # Prints \"2\""
      ]
    },
    {
      "cell_type": "markdown",
      "metadata": {
        "id": "twgX5Pcw-hcg"
      },
      "source": [
        "**Loops:** Iterating over a set has the same syntax as iterating over a list; however since sets are unordered, you cannot make assumptions about the order in which you visit the elements of the set:"
      ]
    },
    {
      "cell_type": "code",
      "execution_count": null,
      "metadata": {
        "id": "V4_mAUyv-hcg",
        "outputId": "0e588ce9-8cd2-4f4e-8665-e8e3f85173d0"
      },
      "outputs": [
        {
          "name": "stdout",
          "output_type": "stream",
          "text": [
            "#1: dog\n",
            "#2: cat\n",
            "#3: fish\n"
          ]
        }
      ],
      "source": [
        "animals = {'cat', 'dog', 'fish'}\n",
        "for idx, animal in enumerate(animals):\n",
        "    print(f'#{idx + 1}: {animal}')\n",
        "# Prints \"#1: fish\", \"#2: dog\", \"#3: cat\""
      ]
    },
    {
      "cell_type": "markdown",
      "metadata": {
        "id": "CDlvLslq-hcg"
      },
      "source": [
        "### 5.5.Tuples\n",
        "\n",
        "A tuple is an (`immutable`) ordered list of values. A tuple is in many ways similar to a list; one of the most important differences is that tuples can be used as keys in dictionaries and as elements of sets, while lists cannot. Here is a trivial example:"
      ]
    },
    {
      "cell_type": "code",
      "execution_count": null,
      "metadata": {
        "id": "nYyKjYbx-hcg",
        "outputId": "b845de24-be0a-4b77-84b6-45addca8b68f"
      },
      "outputs": [
        {
          "ename": "TypeError",
          "evalue": "'tuple' object does not support item assignment",
          "output_type": "error",
          "traceback": [
            "\u001b[1;31m---------------------------------------------------------------------------\u001b[0m",
            "\u001b[1;31mTypeError\u001b[0m                                 Traceback (most recent call last)",
            "Cell \u001b[1;32mIn[9], line 2\u001b[0m\n\u001b[0;32m      1\u001b[0m my_tuple \u001b[38;5;241m=\u001b[39m (\u001b[38;5;241m1\u001b[39m, \u001b[38;5;241m2\u001b[39m, \u001b[38;5;241m3\u001b[39m)\n\u001b[1;32m----> 2\u001b[0m \u001b[43mmy_tuple\u001b[49m\u001b[43m[\u001b[49m\u001b[38;5;241;43m0\u001b[39;49m\u001b[43m]\u001b[49m \u001b[38;5;241m=\u001b[39m \u001b[38;5;241m10\u001b[39m  \u001b[38;5;66;03m# This will raise a TypeError\u001b[39;00m\n",
            "\u001b[1;31mTypeError\u001b[0m: 'tuple' object does not support item assignment"
          ]
        }
      ],
      "source": [
        "my_tuple = (1, 2, 3)\n",
        "my_tuple[0] = 10  # This will raise a TypeError"
      ]
    },
    {
      "cell_type": "code",
      "execution_count": null,
      "metadata": {
        "id": "iMNsBIrt-hcg"
      },
      "outputs": [],
      "source": [
        "my_tuple = (1, 2, 3)\n",
        "del my_tuple[1]  # This will raise a TypeError"
      ]
    },
    {
      "cell_type": "code",
      "execution_count": null,
      "metadata": {
        "id": "__p1QD56-hcg",
        "outputId": "5a4ea12a-2b53-4bf8-9dc0-fe56ca788f5f"
      },
      "outputs": [
        {
          "name": "stdout",
          "output_type": "stream",
          "text": [
            "<class 'tuple'>\n",
            "5\n",
            "1\n"
          ]
        }
      ],
      "source": [
        "d = {(x, x + 1): x for x in range(10)}  # Create a dictionary with tuple keys\n",
        "t = (5, 6)        # Create a tuple\n",
        "print(type(t))    # Prints \"<class 'tuple'>\"\n",
        "print(d[t])       # Prints \"5\"\n",
        "print(d[(1, 2)])  # Prints \"1\""
      ]
    },
    {
      "cell_type": "markdown",
      "metadata": {
        "id": "u8M8ctjx-hch"
      },
      "source": [
        "## 6. Python Functions"
      ]
    },
    {
      "cell_type": "markdown",
      "metadata": {
        "id": "JVqLWXS2-hch"
      },
      "source": [
        "Python functions are defined using the `def` keyword. For example:\n",
        "\n"
      ]
    },
    {
      "cell_type": "code",
      "execution_count": null,
      "metadata": {
        "id": "_VMehvz2-hch",
        "outputId": "248ea62a-da3a-477f-d033-c607e56416a7"
      },
      "outputs": [
        {
          "name": "stdout",
          "output_type": "stream",
          "text": [
            "negative\n",
            "zero\n",
            "positive\n"
          ]
        }
      ],
      "source": [
        "def sign(x):\n",
        "    if x > 0:\n",
        "        return 'positive'\n",
        "    elif x < 0:\n",
        "        return 'negative'\n",
        "    else:\n",
        "        return 'zero'\n",
        "\n",
        "for x in [-1, 0, 1]:\n",
        "    print(sign(x))\n",
        "# Prints \"negative\", \"zero\", \"positive\""
      ]
    },
    {
      "cell_type": "markdown",
      "metadata": {
        "id": "Hhj5N6yy-hch"
      },
      "source": [
        "We will often define functions to take optional keyword arguments, like this:\n",
        "\n"
      ]
    },
    {
      "cell_type": "code",
      "execution_count": null,
      "metadata": {
        "id": "ZX9m77K0-hch",
        "outputId": "4e980579-b4ce-470f-bc6c-8f6ca3558b45"
      },
      "outputs": [
        {
          "name": "stdout",
          "output_type": "stream",
          "text": [
            "Hello, Bob\n",
            "HELLO, FRED!\n"
          ]
        }
      ],
      "source": [
        "def hello(name, loud=False):\n",
        "    if loud:\n",
        "        print(f'HELLO,{name.upper()}')\n",
        "    else:\n",
        "        print('Hello, {name}')\n",
        "\n",
        "hello('Bob') # Prints \"Hello, Bob\"\n",
        "hello('Fred', loud=True)  # Prints \"HELLO, FRED!\""
      ]
    },
    {
      "cell_type": "markdown",
      "metadata": {
        "id": "NLJ7nL_x-hch"
      },
      "source": [
        "## 7. Exporting the notebook\n",
        "You can export the notebook in Jupyter Notebook format (.ipynb), HTML, PDF, and more. To do this, In Jupyter click on `File` in the top left corner, hover over `Download as`, and select the format you would like to export the notebook as.\n",
        "\n",
        "In VS Code, you can export the notebook by going Export section at the top of the notebook.\n",
        "\n",
        "**Note:**\n",
        "In this course for submission, you will be required to submit the notebook in `HTML` format.\n",
        "\n",
        "**Note:**\n",
        "If you see an error while exporting the notebook you may need to run the following command in your teminal while your venvironment is activated:\n",
        "\n",
        "```bash\n",
        "pip uninstall nbconvert\n",
        "pip install nbconvert\n",
        "```\n"
      ]
    },
    {
      "cell_type": "markdown",
      "metadata": {
        "id": "CInEWhUU-hch"
      },
      "source": []
    }
  ],
  "metadata": {
    "kernelspec": {
      "display_name": ".venv",
      "language": "python",
      "name": "python3"
    },
    "language_info": {
      "codemirror_mode": {
        "name": "ipython",
        "version": 3
      },
      "file_extension": ".py",
      "mimetype": "text/x-python",
      "name": "python",
      "nbconvert_exporter": "python",
      "pygments_lexer": "ipython3",
      "version": "3.12.9"
    },
    "colab": {
      "provenance": []
    }
  },
  "nbformat": 4,
  "nbformat_minor": 0
}