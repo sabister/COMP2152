{
  "cells": [
    {
      "cell_type": "markdown",
      "id": "181f409d",
      "metadata": {
        "id": "181f409d"
      },
      "source": [
        "# Lab2: Python Recap"
      ]
    },
    {
      "cell_type": "markdown",
      "id": "7ec5fbbb",
      "metadata": {
        "id": "7ec5fbbb"
      },
      "source": [
        "## 1. Contains Duplicate"
      ]
    },
    {
      "cell_type": "markdown",
      "id": "af12119e",
      "metadata": {
        "id": "af12119e"
      },
      "source": [
        "Given an integer array `nums`, return `true` if any value appears at least twice in the array, and return `false` if every element is distinct.\n",
        "\n",
        "https://leetcode.com/problems/contains-duplicate/description/"
      ]
    },
    {
      "cell_type": "code",
      "execution_count": 2,
      "id": "d0913a5d",
      "metadata": {
        "id": "d0913a5d",
        "outputId": "677ea8b6-f02e-462c-d36a-f907466b8836",
        "colab": {
          "base_uri": "https://localhost:8080/"
        }
      },
      "outputs": [
        {
          "output_type": "stream",
          "name": "stdout",
          "text": [
            "[5, 6, 7, 8, 9]\n",
            "[2, 3, -1]\n",
            "[1, 2, 3, 4, 5]\n"
          ]
        }
      ],
      "source": [
        "def repeating_elements(nums):\n",
        "    check = set()\n",
        "    repeat = set()\n",
        "\n",
        "    for i in nums:\n",
        "        if i in check:\n",
        "            repeat.add(i)\n",
        "        else:\n",
        "            check.add(i)\n",
        "\n",
        "    return list(repeat)\n",
        "\n",
        "    ...\n",
        "\n",
        "print(repeating_elements([9, 8, 7, 8, 7, 6, 5]))  # expected output : [8, 7]\n",
        "print(repeating_elements([-1, 2, 3, -1, 2, 3]))   # expected output : [-1, 2, 3]\n",
        "print(repeating_elements([1, 2, 3, 4, 5]))        # expected output : []"
      ]
    },
    {
      "cell_type": "markdown",
      "id": "483afe49",
      "metadata": {
        "id": "483afe49"
      },
      "source": [
        "## 2. Valid Anagram"
      ]
    },
    {
      "cell_type": "markdown",
      "id": "92b8f85c",
      "metadata": {
        "id": "92b8f85c"
      },
      "source": [
        "An `anagram` is a word or phrase formed by rearranging the letters of a different word or phrase, using all the original letters exactly once.\n",
        "\n",
        "https://leetcode.com/problems/valid-anagram/description/\n",
        "\n",
        "**Notes:**\n",
        "- `s` and `t` consist of lowercase English letters.\n",
        "- Do not use built-in functions like `sorted()` or `collections.Counter()` to solve this problem."
      ]
    },
    {
      "cell_type": "code",
      "execution_count": null,
      "id": "d9195873",
      "metadata": {
        "id": "d9195873",
        "outputId": "3bd203fa-770f-46dd-81a0-38a9853ad1eb"
      },
      "outputs": [
        {
          "name": "stdout",
          "output_type": "stream",
          "text": [
            "True\n",
            "False\n"
          ]
        }
      ],
      "source": [
        "def isAnagram(s, t):\n",
        "     if len(s) != len(t):\n",
        "        return False\n",
        "\n",
        "    d = dict()\n",
        "\n",
        "    # count characters in s\n",
        "    for ch in s:\n",
        "        d[ch] = d.get(ch, 0) + 1\n",
        "\n",
        "    # subtract counts using t\n",
        "    for ch in t:\n",
        "        if ch not in d:\n",
        "            return False\n",
        "        d[ch] -= 1\n",
        "        if d[ch] < 0:\n",
        "            return False\n",
        "\n",
        "    return True\n",
        "\n",
        "    ...\n",
        "\n",
        "print(isAnagram(\"anagram\", \"nagaram\")) # expected output : True\n",
        "print(isAnagram(\"rat\", \"car\"))       # expected output : False"
      ]
    },
    {
      "cell_type": "markdown",
      "id": "2e056654",
      "metadata": {
        "id": "2e056654"
      },
      "source": [
        "## 3. Two Sum"
      ]
    },
    {
      "cell_type": "markdown",
      "id": "89b078b5",
      "metadata": {
        "id": "89b078b5"
      },
      "source": [
        "Given an array of integers `nums` and an integer `target`, return indices of the two numbers such that they add up to `target`.\n",
        "\n",
        "https://leetcode.com/problems/two-sum/description/\n",
        "\n",
        "**Notes:**\n",
        "\n",
        "- You may assume that each input would have exactly one solution, and you may not use the same element twice.\n",
        "\n",
        "- You can return the answer in any order.\n",
        "\n"
      ]
    },
    {
      "cell_type": "code",
      "execution_count": 2,
      "id": "d2bce3de",
      "metadata": {
        "colab": {
          "base_uri": "https://localhost:8080/"
        },
        "id": "d2bce3de",
        "outputId": "53c63205-b8bc-4a7b-d390-78667430377e"
      },
      "outputs": [
        {
          "output_type": "stream",
          "name": "stdout",
          "text": [
            "[0, 1]\n",
            "[1, 2]\n",
            "[0, 1]\n"
          ]
        }
      ],
      "source": [
        "def twoSum(nums, target):\n",
        "    lookup = {}\n",
        "    checked = {}\n",
        "\n",
        "    for i, num in enumerate(nums):\n",
        "        n = target - num\n",
        "        if n in seen:\n",
        "            return [checked[n], i]\n",
        "        seen[checked] = i\n",
        "    ...\n",
        "\n",
        "print(twoSum([2,7,11,15], 9)) # expected output : [0, 1]\n",
        "print(twoSum([3,2,4], 6))     # expected output : [1, 2]\n",
        "print(twoSum([3,3], 6))       # expected output : [0, 1]"
      ]
    },
    {
      "cell_type": "markdown",
      "id": "899dd851",
      "metadata": {
        "id": "899dd851"
      },
      "source": [
        "## 4. Frequent Words Finder\n",
        "Imagine working with large documents, such as news articles, thesis manuscripts, or even books. Identifying the most common words could give us an overview of the main themes or topics in the text.\n",
        "\n",
        "Given a large body of text, we need to identify the three most frequently occurring words.\n",
        "\n",
        "**Notes:**\n",
        "- Not case-sensitive (e.g., \"The\" and \"the\" are the same word).\n",
        "\n",
        "**Hint:**\n",
        "- Step 1: Normalize the text by converting it to lowercase.\n",
        "- Step 2: Split the text into words.\n",
        "- Step 3: Count the occurrences of each word.\n",
        "- Step 4: Identify the top three most frequent words. (You'll use this for `KNN` algorithm in the future lessons)\n",
        "\n"
      ]
    },
    {
      "cell_type": "code",
      "execution_count": 4,
      "id": "5f053266",
      "metadata": {
        "colab": {
          "base_uri": "https://localhost:8080/"
        },
        "id": "5f053266",
        "outputId": "ca5a6e49-5386-4af0-f16c-2e9a1300d607"
      },
      "outputs": [
        {
          "output_type": "stream",
          "name": "stdout",
          "text": [
            "[('the', 4), ('in', 2), ('sun', 2)]\n",
            "[('python', 3), ('is', 2), ('and', 1)]\n",
            "[]\n"
          ]
        }
      ],
      "source": [
        "import re\n",
        "\n",
        "def frequent_words_finder(text):\n",
        "    text = text.lower()\n",
        "\n",
        "    words = re.findall(r'\\b\\w+\\b', text)\n",
        "    if not words:\n",
        "        return []\n",
        "\n",
        "    counts = {}\n",
        "    for w in words:\n",
        "        counts[w] = counts.get(w, 0) + 1\n",
        "\n",
        "    sorted_counts = sorted(counts.items(), key=lambda x: (-x[1], x[0]))\n",
        "    return sorted_counts[:3]\n",
        "\n",
        "print(frequent_words_finder(\"The sun sets in the west, and the sun rises in the east.\"))\n",
        "# [('the', 4), ('sun', 2), ('in', 2)]\n",
        "\n",
        "print(frequent_words_finder(\"Learning Python is fun because Python makes automation easy and Python is everywhere.\"))\n",
        "# [('python', 3), ('is', 2), ('learning', 1)]\n",
        "\n",
        "print(frequent_words_finder(\"\"))\n",
        "# []\n"
      ]
    },
    {
      "cell_type": "markdown",
      "id": "be92145e",
      "metadata": {
        "id": "be92145e"
      },
      "source": [
        "## 5. Majority Vote"
      ]
    },
    {
      "cell_type": "markdown",
      "id": "0df73ec1",
      "metadata": {
        "id": "0df73ec1"
      },
      "source": [
        "Given a list of integers, our aim is to identify the \"majority element\". The majority element in a list is an element that appears more than n / 2 times."
      ]
    },
    {
      "cell_type": "code",
      "execution_count": null,
      "id": "8e924772",
      "metadata": {
        "id": "8e924772",
        "outputId": "8c7377cf-2e30-443a-b65d-60902918c5d3"
      },
      "outputs": [
        {
          "name": "stdout",
          "output_type": "stream",
          "text": [
            "4\n",
            "-1\n",
            "2\n"
          ]
        }
      ],
      "source": [
        "def majority_vote(listA):\n",
        "    n = len(listA)\n",
        "    count = {}\n",
        "\n",
        "    for num in listA:\n",
        "        count[num] = count.get(num, 0) + 1\n",
        "        if count[num] > n // 2:\n",
        "            return num\n",
        "\n",
        "    return -1\n",
        "    ...\n",
        "\n",
        "print(majority_vote([3, 3, 4, 2, 4, 4, 2, 4, 4])) # expected output : 4\n",
        "print(majority_vote([3, 3, 4, 2, 4, 4, 2, 4]))    # expected output : -1\n",
        "print(majority_vote([2, 2, 1, 1, 1, 2, 2]))          # expected output : 2"
      ]
    },
    {
      "cell_type": "markdown",
      "id": "8c31b707",
      "metadata": {
        "id": "8c31b707"
      },
      "source": [
        "## 6. Keyword Index"
      ]
    },
    {
      "cell_type": "markdown",
      "id": "39fd7ff6",
      "metadata": {
        "id": "39fd7ff6"
      },
      "source": [
        "We are given a list of strings, with each string representing a document. Our task is to generate an index of all the distinct words in the documents for quick reference.\n",
        "\n",
        "We need to create a dictionary where each unique word is a key, and the corresponding value is a list of indices pointing to the documents where the word can be found."
      ]
    },
    {
      "cell_type": "code",
      "execution_count": 5,
      "id": "1757d015",
      "metadata": {
        "id": "1757d015",
        "outputId": "bdd61407-68ed-42c4-b845-c9fc9da44f3d",
        "colab": {
          "base_uri": "https://localhost:8080/"
        }
      },
      "outputs": [
        {
          "output_type": "stream",
          "name": "stdout",
          "text": [
            "{'hello': [0, 1], 'world': [0, 2], 'there': [1], 'of': [2], 'python': [2]}\n",
            "{'data': [0, 2], 'science': [0], 'machine': [1], 'learning': [1, 3], 'analysis': [2], 'algorithms': [3]}\n",
            "{}\n"
          ]
        }
      ],
      "source": [
        "def keyword_index(docs):\n",
        "    index = {}\n",
        "\n",
        "    for i, doc in enumerate(docs):\n",
        "        words = doc.lower().split()\n",
        "        for word in words:\n",
        "            if word not in index:\n",
        "                index[word] = []\n",
        "            if i not in index[word]:\n",
        "                index[word].append(i)\n",
        "\n",
        "    return index\n",
        "\n",
        "    ...\n",
        "\n",
        "\n",
        "print(keyword_index([\"hello world\", \"hello there\", \"world of python\"]))\n",
        "# expected output : {'hello': [0, 1], 'world': [0, 2], 'there': [1], 'of': [2], 'python': [2]}\n",
        "\n",
        "print(keyword_index([\"data science\", \"machine learning\", \"data analysis\", \"learning algorithms\"]))\n",
        "# expected output : {'data': [0, 2], 'science': [0], 'machine': [1], 'learning': [1, 3], 'analysis': [2], 'algorithms': [3]}\n",
        "\n",
        "print(keyword_index([]))\n",
        "# expected output : {}"
      ]
    },
    {
      "cell_type": "code",
      "execution_count": null,
      "id": "681f994b",
      "metadata": {
        "id": "681f994b"
      },
      "outputs": [],
      "source": []
    }
  ],
  "metadata": {
    "kernelspec": {
      "display_name": ".venv",
      "language": "python",
      "name": "python3"
    },
    "language_info": {
      "codemirror_mode": {
        "name": "ipython",
        "version": 3
      },
      "file_extension": ".py",
      "mimetype": "text/x-python",
      "name": "python",
      "nbconvert_exporter": "python",
      "pygments_lexer": "ipython3",
      "version": "3.12.9"
    },
    "colab": {
      "provenance": []
    }
  },
  "nbformat": 4,
  "nbformat_minor": 5
}